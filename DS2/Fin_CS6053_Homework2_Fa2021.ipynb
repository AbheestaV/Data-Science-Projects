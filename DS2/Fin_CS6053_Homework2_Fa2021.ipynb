{
 "cells": [
  {
   "cell_type": "markdown",
   "metadata": {},
   "source": [
    "# Foundations of Data Science\n",
    "## Homework 2"
   ]
  },
  {
   "cell_type": "markdown",
   "metadata": {
    "tags": []
   },
   "source": [
    "Student Name:\n",
    "\n",
    "Student Netid:\n",
    "***"
   ]
  },
  {
   "cell_type": "markdown",
   "metadata": {
    "tags": []
   },
   "source": [
    "### Part 1: Case study (5 Points)\n",
    "- Read [this article](http://www.nytimes.com/2012/02/19/magazine/shopping-habits.html) in the New York Times.\n",
    "- Use what we've learned in class and from the book to describe how one could set Target's problem up as a predictive modeling problem, such that they could have gotten the results that they did.  Formulate your solution as a proposed plan using our data science terminology.  Include aspects of the Data Science Workflow that you see as relevant to solving the problem.  Be precise but concise."
   ]
  },
  {
   "cell_type": "markdown",
   "metadata": {},
   "source": [
    "Place your answer here!"
   ]
  },
  {
   "cell_type": "code",
   "execution_count": null,
   "metadata": {},
   "outputs": [],
   "source": [
    "\"\"\"\n",
    "1. We first need to look for instances of major changes amongst humans. The frequency of them visiting the store\n",
    "could drop, while the amount of items they buy might increase. A significant increase in medical goods specifically\n",
    "related to pregnancy. Birthing individuals could also be planning to buy items that indicate a 'gender reveal'\n",
    "party (if they're interested). \n",
    "2. We also look at food patterns that could suddenly lean towards the conventional \"healthy\" trend. While this\n",
    "doesn't specifically indicate pregnancy, it could indicate a superset of it in terms of the health-conscious\n",
    "crowd. Also, apart from healthy choices, Patterns such as formerly buying a lot of seafood and suddenly not,\n",
    "could also add to this score.\n",
    "3. Strategically placing items and marking them as \"For Pregnant individuals\" could also help. It could add\n",
    "to the score that people who buy such items are expecting a child. \n",
    "4. Further, we send emails and messages where, while including a lot of other irrelevant advertisements, we insert\n",
    "products and offers targeted at pregnant individuals. Responses to these could be recorded. In these same emails,\n",
    "or mails, we could also add a straightforward message that Target is offering support and special offers to \n",
    "pregnant individuals. While it might not attract everyone, it could make it easier for the small demographic that\n",
    "actually signs up.\n",
    "5. After sampling this data, we make sure that we don't have any duplicates so our data is cleaner. \n"
   ]
  },
  {
   "cell_type": "markdown",
   "metadata": {
    "tags": []
   },
   "source": [
    "### Part 2: Exploring data in the command line (4 Points - 1 Point Each)\n",
    "For this part we will be using the data file located in `\"data/loansData.csv\"`. This file consists of records that pertain to some loan records in a local bank. There are 15 comma separated columns in this order: \n",
    "\n",
    "`CustNUm`, `Amount.Requested`,\t`Amount.Funded.By.Investors`,\t`Interest.Rate`,\t`Loan.Length`,\t`Loan.Purpose`,\t`Debt.To.Income.Ratio`,\t`State`,\t`Home.Ownership`,\t`Monthly.Income`,\t`FICO.Range`,\t`Open.CREDIT.Lines`,\t`Revolving.CREDIT.Balance`,\t`Inquiries.in.the.Last.6.Months`, and\t`Employment.Length`. \n",
    "\n",
    "These fields contain data of type `int`, `float`, and `string`, and you can also locate a file `\"data/loansData_columns.csv\"`in the data folder containing all the column names for easy reference.  Answer the following questions using Linux/Unix bash commands. All questions can be answered in one line (sometimes, with pipes)! Some questions will have many possible solutions. Don't forget that in iPython notebooks you must prefix all bash commands with an exclamation point, i.e. `\"!command arguments\"`."
   ]
  },
  {
   "cell_type": "markdown",
   "metadata": {},
   "source": [
    "1\\. How many records (lines) are in this file?"
   ]
  },
  {
   "cell_type": "code",
   "execution_count": 13,
   "metadata": {},
   "outputs": [
    {
     "name": "stdout",
     "output_type": "stream",
     "text": [
      "2499 data/loansData.csv\n"
     ]
    }
   ],
   "source": [
    "# Place your code here\n",
    "#import pandas as pd\n",
    "#import matplotlib.pyplot as plt\n",
    "#import numpy as np\n",
    "#from numpy import math\n",
    "\n",
    "#loansData = pd.read_csv('data/loansData.csv')\n",
    "\n",
    "#x=loansData.shape[0]\n",
    "#print(x)\n",
    "#There are 2499 lines\n",
    "!wc -l 'data/loansData.csv'"
   ]
  },
  {
   "cell_type": "markdown",
   "metadata": {},
   "source": [
    "2\\. How many unique `State` (the 8th field) are in this file? (hint: consider the 'cut' command and use pipe operator '|')"
   ]
  },
  {
   "cell_type": "code",
   "execution_count": 15,
   "metadata": {},
   "outputs": [
    {
     "name": "stdout",
     "output_type": "stream",
     "text": [
      "46\n"
     ]
    }
   ],
   "source": [
    "# Place your code here\n",
    "#loansDataH = pd.read_csv('data/loansData_columns.csv')\n",
    "#headers = np.genfromtxt(loansDataH, delimiter=\",\", dtype=None, encoding=None)\n",
    "#print(arr)\n",
    "#loansData2 = pd.read_csv('data/loansData.csv', names=headers)\n",
    "#print(loansData2['State'].nunique())\n",
    "#There are 46 states\n",
    "!cut -d',' -f8 'data/loansData.csv' | sort -u | wc -l"
   ]
  },
  {
   "cell_type": "markdown",
   "metadata": {},
   "source": [
    "3\\. Rank all domains by the number of `Loan.Purpose` (the 6th field) they requested in descending order. (hint: consider the 'cut', 'uniq' and 'sort' commands and the pipe operator)."
   ]
  },
  {
   "cell_type": "code",
   "execution_count": 21,
   "metadata": {},
   "outputs": [
    {
     "name": "stdout",
     "output_type": "stream",
     "text": [
      "   1307 debt_consolidation\n",
      "    444 credit_card\n",
      "    201 other\n",
      "    152 home_improvement\n",
      "    101 major_purchase\n",
      "     87 small_business\n",
      "     50 car\n",
      "     39 wedding\n",
      "     30 medical\n",
      "     29 moving\n",
      "     21 vacation\n",
      "     20 house\n",
      "     15 educational\n",
      "      4 renewable_energy\n"
     ]
    }
   ],
   "source": [
    "# Place your code here\n",
    "!cut -d',' -f6 'data/loansData.csv' | sort | uniq -c | sort -nr"
   ]
  },
  {
   "cell_type": "markdown",
   "metadata": {},
   "source": [
    "4\\. List all records which have `FICO.Range` (the 11th field) from 815-819. (hint: this can be done using 'grep')"
   ]
  },
  {
   "cell_type": "code",
   "execution_count": 23,
   "metadata": {},
   "outputs": [
    {
     "name": "stdout",
     "output_type": "stream",
     "text": [
      "64884,9000,9000,6.03%,36 months,vacation,5.58%,NJ,MORTGAGE,9583.33,815-819,11,675,0,n/a\n",
      "55501,8000,8000,6.03%,36 months,debt_consolidation,4.51%,OR,MORTGAGE,3500,815-819,9,6737,0,10+ years\n",
      "93374,16500,16500,6.03%,36 months,debt_consolidation,22.65%,CA,MORTGAGE,5416.67,815-819,17,14835,0,10+ years\n",
      "90568,4800,4800,6.62%,36 months,car,10.42%,TX,MORTGAGE,7291.67,815-819,14,0,0,< 1 year\n",
      "80302,16800,16800,7.90%,60 months,debt_consolidation,3.34%,FL,MORTGAGE,10666.67,815-819,7,4757,0,10+ years\n",
      "5906,12800,12787.71,8.94%,36 months,debt_consolidation,0.18%,AZ,MORTGAGE,2833.33,815-819,7,306,0,4 years\n"
     ]
    }
   ],
   "source": [
    "# Place your code here\n",
    "!grep '815-819' 'data/loansData.csv'"
   ]
  },
  {
   "cell_type": "markdown",
   "metadata": {},
   "source": [
    "### Part 3: Dealing with data Pythonically (16 Points)"
   ]
  },
  {
   "cell_type": "code",
   "execution_count": 7,
   "metadata": {},
   "outputs": [],
   "source": [
    "# You might find these packages useful. You may import any others you want!\n",
    "import pandas as pd\n",
    "import numpy as np\n",
    "import matplotlib.pyplot as plt\n",
    "%matplotlib inline"
   ]
  },
  {
   "cell_type": "markdown",
   "metadata": {},
   "source": [
    "1\\. (1 Point) Load the data set `\"data/ads_dataset.tsv\"` and load it into a Python Pandas data frame called `ads`."
   ]
  },
  {
   "cell_type": "code",
   "execution_count": 25,
   "metadata": {},
   "outputs": [],
   "source": [
    "# Place your code here\n",
    "ads = pd.read_csv('data/ads_dataset.tsv', sep='\\t')"
   ]
  },
  {
   "cell_type": "markdown",
   "metadata": {},
   "source": [
    "2\\. (4 Points) Write a Python function called `getDfSummary()` that does the following:\n",
    "- Takes as input a data frame\n",
    "- For each variable in the data frame calculates the following features:\n",
    "  - `number_nan` to count the number of missing not-a-number values\n",
    "  - Ignoring missing, NA, and Null values:\n",
    "    - `number_distinct` to count the number of distinct values a variable can take on\n",
    "    - `mean`, `max`, `min`, `std` (standard deviation), and `25%`, `50%`, `75%` to correspond to the appropriate percentiles\n",
    "- All of these new features should be loaded in a new data frame. Each row of the data frame should be a variable from the input data frame, and the columns should be the new summary features.\n",
    "- Returns this new data frame containing all of the summary information\n",
    "\n",
    "Hint: The pandas `describe()` [(manual page)](http://pandas.pydata.org/pandas-docs/stable/generated/pandas.DataFrame.describe.html) method returns a useful series of values that can be used here."
   ]
  },
  {
   "cell_type": "code",
   "execution_count": 100,
   "metadata": {},
   "outputs": [
    {
     "data": {
      "text/html": [
       "<div>\n",
       "<style scoped>\n",
       "    .dataframe tbody tr th:only-of-type {\n",
       "        vertical-align: middle;\n",
       "    }\n",
       "\n",
       "    .dataframe tbody tr th {\n",
       "        vertical-align: top;\n",
       "    }\n",
       "\n",
       "    .dataframe thead th {\n",
       "        text-align: right;\n",
       "    }\n",
       "</style>\n",
       "<table border=\"1\" class=\"dataframe\">\n",
       "  <thead>\n",
       "    <tr style=\"text-align: right;\">\n",
       "      <th></th>\n",
       "      <th>number_nan</th>\n",
       "      <th>number_distinct</th>\n",
       "      <th>count</th>\n",
       "      <th>mean</th>\n",
       "      <th>std</th>\n",
       "      <th>min</th>\n",
       "      <th>25%</th>\n",
       "      <th>50%</th>\n",
       "      <th>75%</th>\n",
       "      <th>max</th>\n",
       "    </tr>\n",
       "  </thead>\n",
       "  <tbody>\n",
       "    <tr>\n",
       "      <th>is_video_user</th>\n",
       "      <td>0</td>\n",
       "      <td>2</td>\n",
       "      <td>54584.0</td>\n",
       "      <td>0.042632</td>\n",
       "      <td>0.202027</td>\n",
       "      <td>0.0000</td>\n",
       "      <td>0.0</td>\n",
       "      <td>0.0</td>\n",
       "      <td>0.000000</td>\n",
       "      <td>1.00000</td>\n",
       "    </tr>\n",
       "    <tr>\n",
       "      <th>video_freq</th>\n",
       "      <td>52257</td>\n",
       "      <td>10</td>\n",
       "      <td>2327.0</td>\n",
       "      <td>1.240653</td>\n",
       "      <td>0.782228</td>\n",
       "      <td>1.0000</td>\n",
       "      <td>1.0</td>\n",
       "      <td>1.0</td>\n",
       "      <td>1.000000</td>\n",
       "      <td>15.00000</td>\n",
       "    </tr>\n",
       "    <tr>\n",
       "      <th>call_freq</th>\n",
       "      <td>0</td>\n",
       "      <td>64</td>\n",
       "      <td>54584.0</td>\n",
       "      <td>1.852777</td>\n",
       "      <td>2.921820</td>\n",
       "      <td>0.0000</td>\n",
       "      <td>1.0</td>\n",
       "      <td>1.0</td>\n",
       "      <td>2.000000</td>\n",
       "      <td>84.00000</td>\n",
       "    </tr>\n",
       "    <tr>\n",
       "      <th>video_interval</th>\n",
       "      <td>0</td>\n",
       "      <td>121</td>\n",
       "      <td>54584.0</td>\n",
       "      <td>2.570533</td>\n",
       "      <td>14.162418</td>\n",
       "      <td>0.0000</td>\n",
       "      <td>0.0</td>\n",
       "      <td>0.0</td>\n",
       "      <td>0.000000</td>\n",
       "      <td>120.00000</td>\n",
       "    </tr>\n",
       "    <tr>\n",
       "      <th>call_interval</th>\n",
       "      <td>0</td>\n",
       "      <td>5886</td>\n",
       "      <td>54584.0</td>\n",
       "      <td>5.825610</td>\n",
       "      <td>17.595442</td>\n",
       "      <td>0.0000</td>\n",
       "      <td>0.0</td>\n",
       "      <td>0.0</td>\n",
       "      <td>0.104167</td>\n",
       "      <td>184.91670</td>\n",
       "    </tr>\n",
       "    <tr>\n",
       "      <th>expected_video_time</th>\n",
       "      <td>0</td>\n",
       "      <td>134</td>\n",
       "      <td>54584.0</td>\n",
       "      <td>-0.494174</td>\n",
       "      <td>8.411089</td>\n",
       "      <td>-78.0000</td>\n",
       "      <td>0.0</td>\n",
       "      <td>0.0</td>\n",
       "      <td>0.000000</td>\n",
       "      <td>55.00000</td>\n",
       "    </tr>\n",
       "    <tr>\n",
       "      <th>expected_call_time</th>\n",
       "      <td>0</td>\n",
       "      <td>15135</td>\n",
       "      <td>54584.0</td>\n",
       "      <td>-10.210786</td>\n",
       "      <td>31.879722</td>\n",
       "      <td>-187.6156</td>\n",
       "      <td>0.0</td>\n",
       "      <td>0.0</td>\n",
       "      <td>0.000000</td>\n",
       "      <td>91.40192</td>\n",
       "    </tr>\n",
       "    <tr>\n",
       "      <th>last_bill</th>\n",
       "      <td>0</td>\n",
       "      <td>189</td>\n",
       "      <td>54584.0</td>\n",
       "      <td>64.729335</td>\n",
       "      <td>53.476658</td>\n",
       "      <td>0.0000</td>\n",
       "      <td>18.0</td>\n",
       "      <td>51.0</td>\n",
       "      <td>105.000000</td>\n",
       "      <td>188.00000</td>\n",
       "    </tr>\n",
       "    <tr>\n",
       "      <th>next_bill</th>\n",
       "      <td>0</td>\n",
       "      <td>189</td>\n",
       "      <td>54584.0</td>\n",
       "      <td>64.729335</td>\n",
       "      <td>53.476658</td>\n",
       "      <td>0.0000</td>\n",
       "      <td>18.0</td>\n",
       "      <td>51.0</td>\n",
       "      <td>105.000000</td>\n",
       "      <td>188.00000</td>\n",
       "    </tr>\n",
       "    <tr>\n",
       "      <th>multiple_video</th>\n",
       "      <td>0</td>\n",
       "      <td>2</td>\n",
       "      <td>54584.0</td>\n",
       "      <td>0.021563</td>\n",
       "      <td>0.145253</td>\n",
       "      <td>0.0000</td>\n",
       "      <td>0.0</td>\n",
       "      <td>0.0</td>\n",
       "      <td>0.000000</td>\n",
       "      <td>1.00000</td>\n",
       "    </tr>\n",
       "    <tr>\n",
       "      <th>multiple_carrier</th>\n",
       "      <td>0</td>\n",
       "      <td>2</td>\n",
       "      <td>54584.0</td>\n",
       "      <td>0.277444</td>\n",
       "      <td>0.447742</td>\n",
       "      <td>0.0000</td>\n",
       "      <td>0.0</td>\n",
       "      <td>0.0</td>\n",
       "      <td>1.000000</td>\n",
       "      <td>1.00000</td>\n",
       "    </tr>\n",
       "    <tr>\n",
       "      <th>uniq_urls</th>\n",
       "      <td>0</td>\n",
       "      <td>207</td>\n",
       "      <td>54584.0</td>\n",
       "      <td>86.569343</td>\n",
       "      <td>61.969765</td>\n",
       "      <td>-1.0000</td>\n",
       "      <td>30.0</td>\n",
       "      <td>75.0</td>\n",
       "      <td>155.000000</td>\n",
       "      <td>206.00000</td>\n",
       "    </tr>\n",
       "    <tr>\n",
       "      <th>num_texts</th>\n",
       "      <td>0</td>\n",
       "      <td>4628</td>\n",
       "      <td>54584.0</td>\n",
       "      <td>720.657592</td>\n",
       "      <td>1275.727306</td>\n",
       "      <td>1.0000</td>\n",
       "      <td>127.0</td>\n",
       "      <td>319.0</td>\n",
       "      <td>802.000000</td>\n",
       "      <td>37091.00000</td>\n",
       "    </tr>\n",
       "    <tr>\n",
       "      <th>is_churn</th>\n",
       "      <td>0</td>\n",
       "      <td>2</td>\n",
       "      <td>54584.0</td>\n",
       "      <td>0.004635</td>\n",
       "      <td>0.067924</td>\n",
       "      <td>0.0000</td>\n",
       "      <td>0.0</td>\n",
       "      <td>0.0</td>\n",
       "      <td>0.000000</td>\n",
       "      <td>1.00000</td>\n",
       "    </tr>\n",
       "  </tbody>\n",
       "</table>\n",
       "</div>"
      ],
      "text/plain": [
       "                     number_nan  number_distinct    count        mean  \\\n",
       "is_video_user                 0                2  54584.0    0.042632   \n",
       "video_freq                52257               10   2327.0    1.240653   \n",
       "call_freq                     0               64  54584.0    1.852777   \n",
       "video_interval                0              121  54584.0    2.570533   \n",
       "call_interval                 0             5886  54584.0    5.825610   \n",
       "expected_video_time           0              134  54584.0   -0.494174   \n",
       "expected_call_time            0            15135  54584.0  -10.210786   \n",
       "last_bill                     0              189  54584.0   64.729335   \n",
       "next_bill                     0              189  54584.0   64.729335   \n",
       "multiple_video                0                2  54584.0    0.021563   \n",
       "multiple_carrier              0                2  54584.0    0.277444   \n",
       "uniq_urls                     0              207  54584.0   86.569343   \n",
       "num_texts                     0             4628  54584.0  720.657592   \n",
       "is_churn                      0                2  54584.0    0.004635   \n",
       "\n",
       "                             std       min    25%    50%         75%  \\\n",
       "is_video_user           0.202027    0.0000    0.0    0.0    0.000000   \n",
       "video_freq              0.782228    1.0000    1.0    1.0    1.000000   \n",
       "call_freq               2.921820    0.0000    1.0    1.0    2.000000   \n",
       "video_interval         14.162418    0.0000    0.0    0.0    0.000000   \n",
       "call_interval          17.595442    0.0000    0.0    0.0    0.104167   \n",
       "expected_video_time     8.411089  -78.0000    0.0    0.0    0.000000   \n",
       "expected_call_time     31.879722 -187.6156    0.0    0.0    0.000000   \n",
       "last_bill              53.476658    0.0000   18.0   51.0  105.000000   \n",
       "next_bill              53.476658    0.0000   18.0   51.0  105.000000   \n",
       "multiple_video          0.145253    0.0000    0.0    0.0    0.000000   \n",
       "multiple_carrier        0.447742    0.0000    0.0    0.0    1.000000   \n",
       "uniq_urls              61.969765   -1.0000   30.0   75.0  155.000000   \n",
       "num_texts            1275.727306    1.0000  127.0  319.0  802.000000   \n",
       "is_churn                0.067924    0.0000    0.0    0.0    0.000000   \n",
       "\n",
       "                             max  \n",
       "is_video_user            1.00000  \n",
       "video_freq              15.00000  \n",
       "call_freq               84.00000  \n",
       "video_interval         120.00000  \n",
       "call_interval          184.91670  \n",
       "expected_video_time     55.00000  \n",
       "expected_call_time      91.40192  \n",
       "last_bill              188.00000  \n",
       "next_bill              188.00000  \n",
       "multiple_video           1.00000  \n",
       "multiple_carrier         1.00000  \n",
       "uniq_urls              206.00000  \n",
       "num_texts            37091.00000  \n",
       "is_churn                 1.00000  "
      ]
     },
     "execution_count": 100,
     "metadata": {},
     "output_type": "execute_result"
    }
   ],
   "source": [
    "def getDfSummary(input_data):\n",
    "    # Place your code here\n",
    "    #i = input_data.shape[1]\n",
    "    #output_data=pd.DataFrame(columns=['number_nan', 'number_distinct', 'mean', 'max', 'min', 'std', '25%', '50%', '75%'], index=range(i))\n",
    "    #print(input_data.columns.values)\n",
    "    #x=input_data.columns.values\n",
    "    #output_data.set_axis(x,axis=0,inplace=True)\n",
    "    nantable= pd.DataFrame(input_data.isnull().sum(), columns=['number_nan'])\n",
    "    distable= pd.DataFrame(input_data.nunique(axis=0), columns=['number_distinct'])\n",
    "    desc=input_data.describe().T\n",
    "    merge1=nantable.join(distable)\n",
    "    output_data=merge1.join(desc)\n",
    "    return output_data\n",
    "getDfSummary(ads)"
   ]
  },
  {
   "cell_type": "markdown",
   "metadata": {},
   "source": [
    "3\\. (1 Point) How long does it take for your `getDfSummary()` function to work on your `ads` data frame? Show us the results below.\n",
    "\n",
    "Hint: `%timeit getDfSummary(ads)`"
   ]
  },
  {
   "cell_type": "code",
   "execution_count": 102,
   "metadata": {},
   "outputs": [
    {
     "name": "stdout",
     "output_type": "stream",
     "text": [
      "52.1 ms ± 1.3 ms per loop (mean ± std. dev. of 7 runs, 10 loops each)\n"
     ]
    }
   ],
   "source": [
    "# Place your code here\n",
    "%timeit getDfSummary(ads)"
   ]
  },
  {
   "cell_type": "markdown",
   "metadata": {},
   "source": [
    "4\\. (2 Points) Using the results returned from `getDfSummary()`, which fields, if any, contain missing `NaN` values?"
   ]
  },
  {
   "cell_type": "code",
   "execution_count": 103,
   "metadata": {},
   "outputs": [
    {
     "name": "stdout",
     "output_type": "stream",
     "text": [
      "number_nan         0\n",
      "number_distinct    0\n",
      "count              0\n",
      "mean               0\n",
      "std                0\n",
      "min                0\n",
      "25%                0\n",
      "50%                0\n",
      "75%                0\n",
      "max                0\n",
      "dtype: int64\n"
     ]
    }
   ],
   "source": [
    "# Place your code here\n",
    "# video_frequency field contains missing NaN values\n",
    "new_data = getDfSummary(ads)\n",
    "numofNan=new_data.isnull().sum()\n",
    "print(numofNan)"
   ]
  },
  {
   "cell_type": "markdown",
   "metadata": {},
   "source": [
    "5\\. (4 Points) For the fields with missing values, does it look like the data is missing at random? Are there any other fields that correlate perfectly, or predict that the data is missing? If missing, what should the data value be?\n",
    "\n",
    "Hint: create another data frame that has just the records with a missing value. Get a summary of this data frame using `getDfSummary()` and compare the differences. Do some feature distributions change dramatically?"
   ]
  },
  {
   "cell_type": "code",
   "execution_count": 112,
   "metadata": {},
   "outputs": [
    {
     "data": {
      "text/html": [
       "<div>\n",
       "<style scoped>\n",
       "    .dataframe tbody tr th:only-of-type {\n",
       "        vertical-align: middle;\n",
       "    }\n",
       "\n",
       "    .dataframe tbody tr th {\n",
       "        vertical-align: top;\n",
       "    }\n",
       "\n",
       "    .dataframe thead th {\n",
       "        text-align: right;\n",
       "    }\n",
       "</style>\n",
       "<table border=\"1\" class=\"dataframe\">\n",
       "  <thead>\n",
       "    <tr style=\"text-align: right;\">\n",
       "      <th></th>\n",
       "      <th>number_nan</th>\n",
       "      <th>number_distinct</th>\n",
       "      <th>count</th>\n",
       "      <th>mean</th>\n",
       "      <th>std</th>\n",
       "      <th>min</th>\n",
       "      <th>25%</th>\n",
       "      <th>50%</th>\n",
       "      <th>75%</th>\n",
       "      <th>max</th>\n",
       "    </tr>\n",
       "  </thead>\n",
       "  <tbody>\n",
       "    <tr>\n",
       "      <th>is_video_user</th>\n",
       "      <td>0</td>\n",
       "      <td>1</td>\n",
       "      <td>52257.0</td>\n",
       "      <td>0.000000</td>\n",
       "      <td>0.000000</td>\n",
       "      <td>0.0000</td>\n",
       "      <td>0.0</td>\n",
       "      <td>0.0</td>\n",
       "      <td>0.000000</td>\n",
       "      <td>0.00000</td>\n",
       "    </tr>\n",
       "    <tr>\n",
       "      <th>video_freq</th>\n",
       "      <td>52257</td>\n",
       "      <td>0</td>\n",
       "      <td>0.0</td>\n",
       "      <td>NaN</td>\n",
       "      <td>NaN</td>\n",
       "      <td>NaN</td>\n",
       "      <td>NaN</td>\n",
       "      <td>NaN</td>\n",
       "      <td>NaN</td>\n",
       "      <td>NaN</td>\n",
       "    </tr>\n",
       "    <tr>\n",
       "      <th>call_freq</th>\n",
       "      <td>0</td>\n",
       "      <td>48</td>\n",
       "      <td>52257.0</td>\n",
       "      <td>1.651549</td>\n",
       "      <td>2.147955</td>\n",
       "      <td>1.0000</td>\n",
       "      <td>1.0</td>\n",
       "      <td>1.0</td>\n",
       "      <td>2.000000</td>\n",
       "      <td>84.00000</td>\n",
       "    </tr>\n",
       "    <tr>\n",
       "      <th>video_interval</th>\n",
       "      <td>0</td>\n",
       "      <td>1</td>\n",
       "      <td>52257.0</td>\n",
       "      <td>0.000000</td>\n",
       "      <td>0.000000</td>\n",
       "      <td>0.0000</td>\n",
       "      <td>0.0</td>\n",
       "      <td>0.0</td>\n",
       "      <td>0.000000</td>\n",
       "      <td>0.00000</td>\n",
       "    </tr>\n",
       "    <tr>\n",
       "      <th>call_interval</th>\n",
       "      <td>0</td>\n",
       "      <td>5112</td>\n",
       "      <td>52257.0</td>\n",
       "      <td>5.686388</td>\n",
       "      <td>17.623555</td>\n",
       "      <td>0.0000</td>\n",
       "      <td>0.0</td>\n",
       "      <td>0.0</td>\n",
       "      <td>0.041667</td>\n",
       "      <td>184.91670</td>\n",
       "    </tr>\n",
       "    <tr>\n",
       "      <th>expected_video_time</th>\n",
       "      <td>0</td>\n",
       "      <td>1</td>\n",
       "      <td>52257.0</td>\n",
       "      <td>0.000000</td>\n",
       "      <td>0.000000</td>\n",
       "      <td>0.0000</td>\n",
       "      <td>0.0</td>\n",
       "      <td>0.0</td>\n",
       "      <td>0.000000</td>\n",
       "      <td>0.00000</td>\n",
       "    </tr>\n",
       "    <tr>\n",
       "      <th>expected_call_time</th>\n",
       "      <td>0</td>\n",
       "      <td>13351</td>\n",
       "      <td>52257.0</td>\n",
       "      <td>-9.669298</td>\n",
       "      <td>31.239030</td>\n",
       "      <td>-187.6156</td>\n",
       "      <td>0.0</td>\n",
       "      <td>0.0</td>\n",
       "      <td>0.000000</td>\n",
       "      <td>91.40192</td>\n",
       "    </tr>\n",
       "    <tr>\n",
       "      <th>last_bill</th>\n",
       "      <td>0</td>\n",
       "      <td>189</td>\n",
       "      <td>52257.0</td>\n",
       "      <td>65.741317</td>\n",
       "      <td>53.484622</td>\n",
       "      <td>0.0000</td>\n",
       "      <td>19.0</td>\n",
       "      <td>52.0</td>\n",
       "      <td>106.000000</td>\n",
       "      <td>188.00000</td>\n",
       "    </tr>\n",
       "    <tr>\n",
       "      <th>next_bill</th>\n",
       "      <td>0</td>\n",
       "      <td>189</td>\n",
       "      <td>52257.0</td>\n",
       "      <td>65.741317</td>\n",
       "      <td>53.484622</td>\n",
       "      <td>0.0000</td>\n",
       "      <td>19.0</td>\n",
       "      <td>52.0</td>\n",
       "      <td>106.000000</td>\n",
       "      <td>188.00000</td>\n",
       "    </tr>\n",
       "    <tr>\n",
       "      <th>multiple_video</th>\n",
       "      <td>0</td>\n",
       "      <td>1</td>\n",
       "      <td>52257.0</td>\n",
       "      <td>0.000000</td>\n",
       "      <td>0.000000</td>\n",
       "      <td>0.0000</td>\n",
       "      <td>0.0</td>\n",
       "      <td>0.0</td>\n",
       "      <td>0.000000</td>\n",
       "      <td>0.00000</td>\n",
       "    </tr>\n",
       "    <tr>\n",
       "      <th>multiple_carrier</th>\n",
       "      <td>0</td>\n",
       "      <td>2</td>\n",
       "      <td>52257.0</td>\n",
       "      <td>0.255602</td>\n",
       "      <td>0.436203</td>\n",
       "      <td>0.0000</td>\n",
       "      <td>0.0</td>\n",
       "      <td>0.0</td>\n",
       "      <td>1.000000</td>\n",
       "      <td>1.00000</td>\n",
       "    </tr>\n",
       "    <tr>\n",
       "      <th>uniq_urls</th>\n",
       "      <td>0</td>\n",
       "      <td>207</td>\n",
       "      <td>52257.0</td>\n",
       "      <td>86.656180</td>\n",
       "      <td>61.996711</td>\n",
       "      <td>-1.0000</td>\n",
       "      <td>30.0</td>\n",
       "      <td>75.0</td>\n",
       "      <td>155.000000</td>\n",
       "      <td>206.00000</td>\n",
       "    </tr>\n",
       "    <tr>\n",
       "      <th>num_texts</th>\n",
       "      <td>0</td>\n",
       "      <td>4570</td>\n",
       "      <td>52257.0</td>\n",
       "      <td>721.848518</td>\n",
       "      <td>1284.504018</td>\n",
       "      <td>1.0000</td>\n",
       "      <td>126.0</td>\n",
       "      <td>318.0</td>\n",
       "      <td>803.000000</td>\n",
       "      <td>37091.00000</td>\n",
       "    </tr>\n",
       "    <tr>\n",
       "      <th>is_churn</th>\n",
       "      <td>0</td>\n",
       "      <td>2</td>\n",
       "      <td>52257.0</td>\n",
       "      <td>0.003024</td>\n",
       "      <td>0.054904</td>\n",
       "      <td>0.0000</td>\n",
       "      <td>0.0</td>\n",
       "      <td>0.0</td>\n",
       "      <td>0.000000</td>\n",
       "      <td>1.00000</td>\n",
       "    </tr>\n",
       "  </tbody>\n",
       "</table>\n",
       "</div>"
      ],
      "text/plain": [
       "                     number_nan  number_distinct    count        mean  \\\n",
       "is_video_user                 0                1  52257.0    0.000000   \n",
       "video_freq                52257                0      0.0         NaN   \n",
       "call_freq                     0               48  52257.0    1.651549   \n",
       "video_interval                0                1  52257.0    0.000000   \n",
       "call_interval                 0             5112  52257.0    5.686388   \n",
       "expected_video_time           0                1  52257.0    0.000000   \n",
       "expected_call_time            0            13351  52257.0   -9.669298   \n",
       "last_bill                     0              189  52257.0   65.741317   \n",
       "next_bill                     0              189  52257.0   65.741317   \n",
       "multiple_video                0                1  52257.0    0.000000   \n",
       "multiple_carrier              0                2  52257.0    0.255602   \n",
       "uniq_urls                     0              207  52257.0   86.656180   \n",
       "num_texts                     0             4570  52257.0  721.848518   \n",
       "is_churn                      0                2  52257.0    0.003024   \n",
       "\n",
       "                             std       min    25%    50%         75%  \\\n",
       "is_video_user           0.000000    0.0000    0.0    0.0    0.000000   \n",
       "video_freq                   NaN       NaN    NaN    NaN         NaN   \n",
       "call_freq               2.147955    1.0000    1.0    1.0    2.000000   \n",
       "video_interval          0.000000    0.0000    0.0    0.0    0.000000   \n",
       "call_interval          17.623555    0.0000    0.0    0.0    0.041667   \n",
       "expected_video_time     0.000000    0.0000    0.0    0.0    0.000000   \n",
       "expected_call_time     31.239030 -187.6156    0.0    0.0    0.000000   \n",
       "last_bill              53.484622    0.0000   19.0   52.0  106.000000   \n",
       "next_bill              53.484622    0.0000   19.0   52.0  106.000000   \n",
       "multiple_video          0.000000    0.0000    0.0    0.0    0.000000   \n",
       "multiple_carrier        0.436203    0.0000    0.0    0.0    1.000000   \n",
       "uniq_urls              61.996711   -1.0000   30.0   75.0  155.000000   \n",
       "num_texts            1284.504018    1.0000  126.0  318.0  803.000000   \n",
       "is_churn                0.054904    0.0000    0.0    0.0    0.000000   \n",
       "\n",
       "                             max  \n",
       "is_video_user            0.00000  \n",
       "video_freq                   NaN  \n",
       "call_freq               84.00000  \n",
       "video_interval           0.00000  \n",
       "call_interval          184.91670  \n",
       "expected_video_time      0.00000  \n",
       "expected_call_time      91.40192  \n",
       "last_bill              188.00000  \n",
       "next_bill              188.00000  \n",
       "multiple_video           0.00000  \n",
       "multiple_carrier         1.00000  \n",
       "uniq_urls              206.00000  \n",
       "num_texts            37091.00000  \n",
       "is_churn                 1.00000  "
      ]
     },
     "execution_count": 112,
     "metadata": {},
     "output_type": "execute_result"
    }
   ],
   "source": [
    "# Place your code and response here\n",
    "miss_data = ads[ads.isnull().any(axis=1)]\n",
    "getDfSummary(miss_data)\n",
    "#video_interval when 0, is giving NaN on video_freq. Missing value should've been 0."
   ]
  },
  {
   "cell_type": "markdown",
   "metadata": {},
   "source": [
    "6\\. (2 Points) Which variables are binary?"
   ]
  },
  {
   "cell_type": "code",
   "execution_count": 147,
   "metadata": {},
   "outputs": [
    {
     "name": "stdout",
     "output_type": "stream",
     "text": [
      "['is_video_user', 'multiple_video', 'multiple_carrier', 'is_churn']\n"
     ]
    }
   ],
   "source": [
    "# Place your code here\n",
    "def is_binary(series, allow_na=False):\n",
    "    if allow_na:\n",
    "        series.dropna(inplace=True)\n",
    "    print([w for w in ads if (len(ads[w].value_counts())>0)&all(ads[w].value_counts().index.isin([0, 1]))])\n",
    "    return \n",
    "is_binary(new_data)"
   ]
  },
  {
   "cell_type": "markdown",
   "metadata": {},
   "source": [
    "7\\. (0.5 Point) Let's take a deeper look into one of the features, the `num_texts`, which stands for the number of text messages. Let's try and understand the distribution of this field. We can do this using the hist() method and matplotlib. Draw a histogram graph of `num_texts` from the dataframe `ads`, set the title of the graph as `'Histogram of Number of Texts'`."
   ]
  },
  {
   "cell_type": "code",
   "execution_count": 148,
   "metadata": {},
   "outputs": [
    {
     "data": {
      "image/png": "[encoded data removed]",
      "text/plain": [
       "<Figure size 432x288 with 1 Axes>"
      ]
     },
     "metadata": {
      "needs_background": "light"
     },
     "output_type": "display_data"
    }
   ],
   "source": [
    "# Place your code here\n",
    "plt.figure()\n",
    "inc = ads['num_texts']\n",
    "h = inc.hist()\n",
    "plt.title('Histogram of Number of Textxs')\n",
    "plt.show()"
   ]
  },
  {
   "cell_type": "markdown",
   "metadata": {},
   "source": [
    "8\\. (1.5 Point) How would you characterize the shape of this distribution? Is there anything we can do to the texts variable to make the distribution more bell curved? \n",
    "\n",
    "Hint: Let's create a new column in the dataframe called `'log_num_texts'` and print a histogram `'Histogram of Log(Num Texts)'` of it. What might be some advantages of making such a transformation?"
   ]
  },
  {
   "cell_type": "code",
   "execution_count": 155,
   "metadata": {},
   "outputs": [
    {
     "data": {
      "image/png": "[encoded data removed]",
      "text/plain": [
       "<Figure size 432x288 with 1 Axes>"
      ]
     },
     "metadata": {
      "needs_background": "light"
     },
     "output_type": "display_data"
    }
   ],
   "source": [
    "# Place your code and response here\n",
    "loggtable= pd.DataFrame(np.log10(ads['num_texts']), columns=['log_num_texts'])\n",
    "fintable=new_data.join(loggtable)\n",
    "plt.figure()\n",
    "inc = fintable['log_num_texts']\n",
    "h = inc.hist()\n",
    "plt.title('Histogram of Log(Num of Texts)')\n",
    "plt.show()"
   ]
  },
  {
   "cell_type": "markdown",
   "metadata": {},
   "source": [
    "End of Homework2"
   ]
  }
 ],
 "metadata": {
  "anaconda-cloud": {},
  "kernelspec": {
   "display_name": "Python 3 (ipykernel)",
   "language": "python",
   "name": "python3"
  },
  "language_info": {
   "codemirror_mode": {
    "name": "ipython",
    "version": 3
   },
   "file_extension": ".py",
   "mimetype": "text/x-python",
   "name": "python",
   "nbconvert_exporter": "python",
   "pygments_lexer": "ipython3",
   "version": "3.9.7"
  }
 },
 "nbformat": 4,
 "nbformat_minor": 4
}
